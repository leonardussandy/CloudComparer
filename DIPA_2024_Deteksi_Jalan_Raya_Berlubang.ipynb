{
  "metadata": {
    "kernelspec": {
      "language": "python",
      "display_name": "Python 3",
      "name": "python3"
    },
    "language_info": {
      "name": "python",
      "version": "3.10.13",
      "mimetype": "text/x-python",
      "codemirror_mode": {
        "name": "ipython",
        "version": 3
      },
      "pygments_lexer": "ipython3",
      "nbconvert_exporter": "python",
      "file_extension": ".py"
    },
    "kaggle": {
      "accelerator": "nvidiaTeslaT4",
      "dataSources": [
        {
          "sourceId": 2029997,
          "sourceType": "datasetVersion",
          "datasetId": 1215302
        },
        {
          "sourceId": 8556251,
          "sourceType": "datasetVersion",
          "datasetId": 5113447
        },
        {
          "sourceId": 8556350,
          "sourceType": "datasetVersion",
          "datasetId": 5113530
        },
        {
          "sourceId": 9190782,
          "sourceType": "datasetVersion",
          "datasetId": 5555961
        }
      ],
      "dockerImageVersionId": 30699,
      "isInternetEnabled": true,
      "language": "python",
      "sourceType": "notebook",
      "isGpuEnabled": true
    },
    "colab": {
      "name": "DIPA 2024-Deteksi Jalan Raya Berlubang",
      "provenance": [],
      "include_colab_link": true
    }
  },
  "nbformat_minor": 0,
  "nbformat": 4,
  "cells": [
    {
      "cell_type": "markdown",
      "metadata": {
        "id": "view-in-github",
        "colab_type": "text"
      },
      "source": [
        "<a href=\"https://colab.research.google.com/github/leonardussandy/CloudComparer/blob/master/DIPA_2024_Deteksi_Jalan_Raya_Berlubang.ipynb\" target=\"_parent\"><img src=\"https://colab.research.google.com/assets/colab-badge.svg\" alt=\"Open In Colab\"/></a>"
      ]
    },
    {
      "source": [
        "\n",
        "# IMPORTANT: RUN THIS CELL IN ORDER TO IMPORT YOUR KAGGLE DATA SOURCES\n",
        "# TO THE CORRECT LOCATION (/kaggle/input) IN YOUR NOTEBOOK,\n",
        "# THEN FEEL FREE TO DELETE THIS CELL.\n",
        "# NOTE: THIS NOTEBOOK ENVIRONMENT DIFFERS FROM KAGGLE'S PYTHON\n",
        "# ENVIRONMENT SO THERE MAY BE MISSING LIBRARIES USED BY YOUR\n",
        "# NOTEBOOK.\n",
        "\n",
        "import os\n",
        "import sys\n",
        "from tempfile import NamedTemporaryFile\n",
        "from urllib.request import urlopen\n",
        "from urllib.parse import unquote, urlparse\n",
        "from urllib.error import HTTPError\n",
        "from zipfile import ZipFile\n",
        "import tarfile\n",
        "import shutil\n",
        "\n",
        "CHUNK_SIZE = 40960\n",
        "DATA_SOURCE_MAPPING = 'road-damage-classification-and-assessment:https%3A%2F%2Fstorage.googleapis.com%2Fkaggle-data-sets%2F1215302%2F2029997%2Fbundle%2Farchive.zip%3FX-Goog-Algorithm%3DGOOG4-RSA-SHA256%26X-Goog-Credential%3Dgcp-kaggle-com%2540kaggle-161607.iam.gserviceaccount.com%252F20240817%252Fauto%252Fstorage%252Fgoog4_request%26X-Goog-Date%3D20240817T161959Z%26X-Goog-Expires%3D259200%26X-Goog-SignedHeaders%3Dhost%26X-Goog-Signature%3D15ec2fbf6c4c45e9cde3190456e7532f8787f1de9ee06d5cc869de9e1f230f15d6d8933eb339f61765fa765a18b7fe4fa3a2f1cc7b1415c863921950d678e5a44b26b11d97fc744d74d95530e9a844bb00ea56b58d6253746807c478737e9f2d175e6270e40b22a454a29e7b3ddf716a9ec6553c7c48256dd636edc3792db34c89fb2495812f5bebd06a99ff7555c26d1e5866bf1cc4c6ca23c5b6276bfc9861d100cb5a56aee0a50d0d0fa6ce261423938961a13fc637f3957358ef15c1bf6c15339dfd301000a7e2b3a026dfeab3dc3ea5d1583ba33576b0d10db6463a0ba5b686f50950f41acec5765ca2eb995ea0f29a5bb0990224a8e0704be83be3252a,road-demage-4-class:https%3A%2F%2Fstorage.googleapis.com%2Fkaggle-data-sets%2F5113447%2F8556251%2Fbundle%2Farchive.zip%3FX-Goog-Algorithm%3DGOOG4-RSA-SHA256%26X-Goog-Credential%3Dgcp-kaggle-com%2540kaggle-161607.iam.gserviceaccount.com%252F20240817%252Fauto%252Fstorage%252Fgoog4_request%26X-Goog-Date%3D20240817T161959Z%26X-Goog-Expires%3D259200%26X-Goog-SignedHeaders%3Dhost%26X-Goog-Signature%3D38a17b6fd76139d7a129dd38afe0d0fb95462ee9ffecbea290463d9032c9b532a42b86822e1446e50157b48de98fcec09e10d8288a9979b1a1270e2de429af1db570fcb9f1132c9a4d414aad677d791f8d4bb3a3dfccb14937ac837286094b7d7fc644170c35b5d47f415691b8e6cd59aa726caf4afb5cc74e7ca9ee47305f01296b404ce1ba38b9f81fc47c575b8bd52e17e6eff43fd63bad5153a31f1cda24ebd2d38926c637c28f8e168e8cb8015ba5cf15a8a28a99f08d3188c00d5b2e22900f51a326c58976df5bcba9fa2d6ea618273f60ad20c38566290ec9b66042546406c3df9827fa7032f1d67748f8a43789af9d06fb65ee6b31042699b3937b2e,4-class-road:https%3A%2F%2Fstorage.googleapis.com%2Fkaggle-data-sets%2F5113530%2F8556350%2Fbundle%2Farchive.zip%3FX-Goog-Algorithm%3DGOOG4-RSA-SHA256%26X-Goog-Credential%3Dgcp-kaggle-com%2540kaggle-161607.iam.gserviceaccount.com%252F20240817%252Fauto%252Fstorage%252Fgoog4_request%26X-Goog-Date%3D20240817T161959Z%26X-Goog-Expires%3D259200%26X-Goog-SignedHeaders%3Dhost%26X-Goog-Signature%3D00cf70efaa23fc14b3c3284ec8ab556c81c00d603b9053693133f250aeb4a55c93a124a3f4c70bcc23b9679a2af360829322846912b14fbbe2309b5f79921180470a1ca38f4531a4ec5f53485db3394c68f12683154d5bb6333608b7169503fc55605a6b47398df2831ef53e5b7c4edfd725ec84751397ddfd18d72719b1272c2692b11df921ee0a407f4ab1bcf685bfbe00b298a699616563a9830afc339e017da026250f61c5573e5468c6b0a50666345bef3e59f4556d677bfd8cd701f87a2e2d90ccd6d5f002f06e186dc6725fd2541463a0fee5f5893094c3b6e8151ca8bf3905c8eefa9a6f7bcfcb5b368acbb06b68314fb78b1d3a5dd72ecd63123738,database-dipa-2024-jalan-berlubang:https%3A%2F%2Fstorage.googleapis.com%2Fkaggle-data-sets%2F5555961%2F9190782%2Fbundle%2Farchive.zip%3FX-Goog-Algorithm%3DGOOG4-RSA-SHA256%26X-Goog-Credential%3Dgcp-kaggle-com%2540kaggle-161607.iam.gserviceaccount.com%252F20240817%252Fauto%252Fstorage%252Fgoog4_request%26X-Goog-Date%3D20240817T161959Z%26X-Goog-Expires%3D259200%26X-Goog-SignedHeaders%3Dhost%26X-Goog-Signature%3D3a2c1af502f6042001fbe8b4b8a1a92cfd7b56537de1fdfb68a5f0031cf0b4fc93237cd4d997a871018767511afea6c530ae3082632f310131fe941a557dbade26b62dfa56aae7f862820765628a6e094b0d453859c2195b02134a93707ccb84be135cc9c8cb6fb9caa8a7186e63eb0e41c81fbc2dede152f69e1cf9bd55cd5808f6449c41b87120b8d542f641626aabb92c5f641c40fb5c3cc9d3b426ad7cd63be7a1b34bd0786ad4c9d8ffd00c60704bbfa89d1dcd9e6b6744c8ec20c8abfdd07dbc101ba6f796442e95eae0d5c73c71733b7d214bbe883b7372d460ac32ad0f746d2ccc02d92da26867eda0d8fb3a6ff5bb76dce1ae6ae610e117642e401b'\n",
        "\n",
        "KAGGLE_INPUT_PATH='/kaggle/input'\n",
        "KAGGLE_WORKING_PATH='/kaggle/working'\n",
        "KAGGLE_SYMLINK='kaggle'\n",
        "\n",
        "!umount /kaggle/input/ 2> /dev/null\n",
        "shutil.rmtree('/kaggle/input', ignore_errors=True)\n",
        "os.makedirs(KAGGLE_INPUT_PATH, 0o777, exist_ok=True)\n",
        "os.makedirs(KAGGLE_WORKING_PATH, 0o777, exist_ok=True)\n",
        "\n",
        "try:\n",
        "  os.symlink(KAGGLE_INPUT_PATH, os.path.join(\"..\", 'input'), target_is_directory=True)\n",
        "except FileExistsError:\n",
        "  pass\n",
        "try:\n",
        "  os.symlink(KAGGLE_WORKING_PATH, os.path.join(\"..\", 'working'), target_is_directory=True)\n",
        "except FileExistsError:\n",
        "  pass\n",
        "\n",
        "for data_source_mapping in DATA_SOURCE_MAPPING.split(','):\n",
        "    directory, download_url_encoded = data_source_mapping.split(':')\n",
        "    download_url = unquote(download_url_encoded)\n",
        "    filename = urlparse(download_url).path\n",
        "    destination_path = os.path.join(KAGGLE_INPUT_PATH, directory)\n",
        "    try:\n",
        "        with urlopen(download_url) as fileres, NamedTemporaryFile() as tfile:\n",
        "            total_length = fileres.headers['content-length']\n",
        "            print(f'Downloading {directory}, {total_length} bytes compressed')\n",
        "            dl = 0\n",
        "            data = fileres.read(CHUNK_SIZE)\n",
        "            while len(data) > 0:\n",
        "                dl += len(data)\n",
        "                tfile.write(data)\n",
        "                done = int(50 * dl / int(total_length))\n",
        "                sys.stdout.write(f\"\\r[{'=' * done}{' ' * (50-done)}] {dl} bytes downloaded\")\n",
        "                sys.stdout.flush()\n",
        "                data = fileres.read(CHUNK_SIZE)\n",
        "            if filename.endswith('.zip'):\n",
        "              with ZipFile(tfile) as zfile:\n",
        "                zfile.extractall(destination_path)\n",
        "            else:\n",
        "              with tarfile.open(tfile.name) as tarfile:\n",
        "                tarfile.extractall(destination_path)\n",
        "            print(f'\\nDownloaded and uncompressed: {directory}')\n",
        "    except HTTPError as e:\n",
        "        print(f'Failed to load (likely expired) {download_url} to path {destination_path}')\n",
        "        continue\n",
        "    except OSError as e:\n",
        "        print(f'Failed to load {download_url} to path {destination_path}')\n",
        "        continue\n",
        "\n",
        "print('Data source import complete.')\n"
      ],
      "metadata": {
        "id": "RWLbYPD5I4cQ",
        "outputId": "de006be9-bb6a-4e4d-dbe5-a5d13ee9c406",
        "colab": {
          "base_uri": "https://localhost:8080/"
        }
      },
      "cell_type": "code",
      "outputs": [
        {
          "output_type": "stream",
          "name": "stdout",
          "text": [
            "Downloading road-damage-classification-and-assessment, 719129395 bytes compressed\n",
            "[===============================                   ] 457850880 bytes downloaded"
          ]
        }
      ],
      "execution_count": null
    },
    {
      "cell_type": "code",
      "source": [
        "!pip install ultralytics\n",
        "\n",
        "# Importing the required libraries\n",
        "from ultralytics import YOLO\n",
        "import squarify\n",
        "import matplotlib.pyplot as plt\n",
        "import cv2\n",
        "import os\n",
        "import random\n",
        "import pandas as pd\n",
        "import matplotlib.image as mpimg\n",
        "import seaborn as sns\n",
        "\n",
        "sns.set_style('darkgrid')\n",
        "\n",
        "%matplotlib inline\n",
        "import ultralytics\n",
        "ultralytics.checks()"
      ],
      "metadata": {
        "_uuid": "8f2839f25d086af736a60e9eeb907d3b93b6e0e5",
        "_cell_guid": "b1076dfc-b9ad-4769-8c92-a6c4dae69d19",
        "execution": {
          "iopub.status.busy": "2024-08-17T14:03:56.400644Z",
          "iopub.execute_input": "2024-08-17T14:03:56.401007Z",
          "iopub.status.idle": "2024-08-17T14:04:17.49992Z",
          "shell.execute_reply.started": "2024-08-17T14:03:56.400973Z",
          "shell.execute_reply": "2024-08-17T14:04:17.498983Z"
        },
        "trusted": true,
        "id": "UjFgwifdI4cU"
      },
      "execution_count": null,
      "outputs": []
    },
    {
      "cell_type": "code",
      "source": [
        "# Define the paths to the images and labels directories\n",
        "train_images = \"/kaggle/input/database-dipa-2024-jalan-berlubang/Database Jalan Berlubang/train/images\"\n",
        "train_labels = \"/kaggle/input/database-dipa-2024-jalan-berlubang/Database Jalan Berlubang/train/labels\"\n",
        "\n",
        "test_images = \"/kaggle/input/database-dipa-2024-jalan-berlubang/Database Jalan Berlubang/test/images\"\n",
        "test_labels = \"/kaggle/input/database-dipa-2024-jalan-berlubang/Database Jalan Berlubang/test/labels\"\n",
        "\n",
        "val_images = \"/kaggle/input/database-dipa-2024-jalan-berlubang/Database Jalan Berlubang/valid/images\"\n",
        "val_labels = \"/kaggle/input/database-dipa-2024-jalan-berlubang/Database Jalan Berlubang/valid/labels\"\n",
        "\n",
        "# Get a list of all the image files in the training images directory\n",
        "image_files = os.listdir(train_images)\n",
        "\n",
        "# Choose 16 random image files from the list\n",
        "random_images = random.sample(image_files, 16)\n",
        "\n",
        "# Set up the plot\n",
        "fig, axs = plt.subplots(4, 4, figsize=(16, 16))\n",
        "\n",
        "# Loop over the random images and plot the object detections\n",
        "for i, image_file in enumerate(random_images):\n",
        "    row = i // 4\n",
        "    col = i % 4\n",
        "\n",
        "    # Load the image\n",
        "    image_path = os.path.join(train_images, image_file)\n",
        "    image = cv2.imread(image_path)\n",
        "\n",
        "    # Load the labels for this image\n",
        "    label_file = os.path.splitext(image_file)[0] + \".txt\"\n",
        "    label_path = os.path.join(train_labels, label_file)\n",
        "    with open(label_path, \"r\") as f:\n",
        "        labels = f.read().strip().split(\"\\n\")\n",
        "\n",
        "    # Loop over the labels and plot the object detections\n",
        "    # Loop over the labels and plot the object detections\n",
        "    for label in labels:\n",
        "        if len(label.split()) != 5:\n",
        "            continue\n",
        "        class_id, x_center, y_center, width, height = map(float, label.split())\n",
        "        x_min = int((x_center - width/2) * image.shape[1])\n",
        "        y_min = int((y_center - height/2) * image.shape[0])\n",
        "        x_max = int((x_center + width/2) * image.shape[1])\n",
        "        y_max = int((y_center + height/2) * image.shape[0])\n",
        "        cv2.rectangle(image, (x_min, y_min), (x_max, y_max), (0, 255, 0), 3)\n",
        "\n",
        "\n",
        "    # Show the image with the object detections\n",
        "    axs[row, col].imshow(cv2.cvtColor(image, cv2.COLOR_BGR2RGB))\n",
        "    axs[row, col].axis('off')\n",
        "\n",
        "plt.show()"
      ],
      "metadata": {
        "execution": {
          "iopub.status.busy": "2024-08-17T14:04:17.50186Z",
          "iopub.execute_input": "2024-08-17T14:04:17.502289Z",
          "iopub.status.idle": "2024-08-17T14:04:20.87702Z",
          "shell.execute_reply.started": "2024-08-17T14:04:17.502264Z",
          "shell.execute_reply": "2024-08-17T14:04:20.875508Z"
        },
        "trusted": true,
        "id": "7HOmDTRbI4cU"
      },
      "execution_count": null,
      "outputs": []
    },
    {
      "cell_type": "code",
      "source": [
        "# Load an image using OpenCV\n",
        "image = cv2.imread(\"/kaggle/input/database-dipa-2024-jalan-berlubang/Database Jalan Berlubang/train/images/pic-10-_jpg.rf.5a901c212d899a7dc7dc78be7de892c0.jpg\")\n",
        "\n",
        "# Get the size of the image\n",
        "height, width, channels = image.shape\n",
        "print(f\"The image has dimensions {width}x{height} and {channels} channels.\")"
      ],
      "metadata": {
        "execution": {
          "iopub.status.busy": "2024-08-17T14:04:20.878675Z",
          "iopub.execute_input": "2024-08-17T14:04:20.879033Z",
          "iopub.status.idle": "2024-08-17T14:04:20.895415Z",
          "shell.execute_reply.started": "2024-08-17T14:04:20.879004Z",
          "shell.execute_reply": "2024-08-17T14:04:20.894589Z"
        },
        "trusted": true,
        "id": "OZVwAfXCI4cV"
      },
      "execution_count": null,
      "outputs": []
    },
    {
      "cell_type": "code",
      "source": [
        "# Loading a pretrained model\n",
        "model = YOLO('yolov8x.pt')\n",
        "\n",
        "# Training the model\n",
        "model.train(data = '/kaggle/input/database-dipa-2024-jalan-berlubang/Database Jalan Berlubang/data.yaml',\n",
        "            epochs = 100,\n",
        "            imgsz = height,\n",
        "            seed = 42,\n",
        "            batch = 8,\n",
        "            workers = 4)"
      ],
      "metadata": {
        "execution": {
          "iopub.status.busy": "2024-08-17T14:04:20.897397Z",
          "iopub.execute_input": "2024-08-17T14:04:20.897685Z",
          "iopub.status.idle": "2024-08-17T15:40:36.177673Z",
          "shell.execute_reply.started": "2024-08-17T14:04:20.897659Z",
          "shell.execute_reply": "2024-08-17T15:40:36.176646Z"
        },
        "trusted": true,
        "id": "GQ7Q9-cHI4cV"
      },
      "execution_count": null,
      "outputs": []
    },
    {
      "cell_type": "code",
      "source": [
        "%matplotlib inline\n",
        "# read in the results.csv file as a pandas dataframe\n",
        "df = pd.read_csv('/kaggle/working/runs/detect/train/results.csv')\n",
        "df.columns = df.columns.str.strip()\n",
        "\n",
        "# create subplots using seaborn\n",
        "fig, axs = plt.subplots(nrows=5, ncols=2, figsize=(15, 15))\n",
        "\n",
        "# plot the columns using seaborn\n",
        "sns.lineplot(x='epoch', y='train/box_loss', data=df, ax=axs[0,0])\n",
        "sns.lineplot(x='epoch', y='train/cls_loss', data=df, ax=axs[0,1])\n",
        "sns.lineplot(x='epoch', y='train/dfl_loss', data=df, ax=axs[1,0])\n",
        "sns.lineplot(x='epoch', y='metrics/precision(B)', data=df, ax=axs[1,1])\n",
        "sns.lineplot(x='epoch', y='metrics/recall(B)', data=df, ax=axs[2,0])\n",
        "sns.lineplot(x='epoch', y='metrics/mAP50(B)', data=df, ax=axs[2,1])\n",
        "sns.lineplot(x='epoch', y='metrics/mAP50-95(B)', data=df, ax=axs[3,0])\n",
        "sns.lineplot(x='epoch', y='val/box_loss', data=df, ax=axs[3,1])\n",
        "sns.lineplot(x='epoch', y='val/cls_loss', data=df, ax=axs[4,0])\n",
        "sns.lineplot(x='epoch', y='val/dfl_loss', data=df, ax=axs[4,1])\n",
        "\n",
        "# set titles and axis labels for each subplot\n",
        "axs[0,0].set(title='Train Box Loss')\n",
        "axs[0,1].set(title='Train Class Loss')\n",
        "axs[1,0].set(title='Train DFL Loss')\n",
        "axs[1,1].set(title='Metrics Precision (B)')\n",
        "axs[2,0].set(title='Metrics Recall (B)')\n",
        "axs[2,1].set(title='Metrics mAP50 (B)')\n",
        "axs[3,0].set(title='Metrics mAP50-95 (B)')\n",
        "axs[3,1].set(title='Validation Box Loss')\n",
        "axs[4,0].set(title='Validation Class Loss')\n",
        "axs[4,1].set(title='Validation DFL Loss')\n",
        "\n",
        "# add suptitle and subheader\n",
        "plt.suptitle('Training Metrics and Loss', fontsize=24)\n",
        "\n",
        "# adjust top margin to make space for suptitle\n",
        "plt.subplots_adjust(top=0.8)\n",
        "\n",
        "# adjust spacing between subplots\n",
        "plt.tight_layout()\n",
        "\n",
        "plt.show()"
      ],
      "metadata": {
        "execution": {
          "iopub.status.busy": "2024-08-17T15:40:36.179158Z",
          "iopub.execute_input": "2024-08-17T15:40:36.179456Z",
          "iopub.status.idle": "2024-08-17T15:40:41.394849Z",
          "shell.execute_reply.started": "2024-08-17T15:40:36.179431Z",
          "shell.execute_reply": "2024-08-17T15:40:41.39392Z"
        },
        "trusted": true,
        "id": "7ROojhPtI4cV"
      },
      "execution_count": null,
      "outputs": []
    },
    {
      "cell_type": "code",
      "source": [
        "%matplotlib inline\n",
        "# Loading the best performing model\n",
        "model = YOLO('/kaggle/working/runs/detect/train/weights/best.pt')\n"
      ],
      "metadata": {
        "execution": {
          "iopub.status.busy": "2024-08-17T15:40:41.395998Z",
          "iopub.execute_input": "2024-08-17T15:40:41.396282Z",
          "iopub.status.idle": "2024-08-17T15:40:41.666173Z",
          "shell.execute_reply.started": "2024-08-17T15:40:41.396257Z",
          "shell.execute_reply": "2024-08-17T15:40:41.665393Z"
        },
        "trusted": true,
        "id": "knOqnOFxI4cW"
      },
      "execution_count": null,
      "outputs": []
    },
    {
      "cell_type": "code",
      "source": [
        "# Evaluating the model on the test dataset\n",
        "metrics = model.val(data=\"/kaggle/input/database-dipa-2024-jalan-berlubang/Database Jalan Berlubang/data.yaml\")"
      ],
      "metadata": {
        "execution": {
          "iopub.status.busy": "2024-08-17T15:40:41.667785Z",
          "iopub.execute_input": "2024-08-17T15:40:41.668071Z",
          "iopub.status.idle": "2024-08-17T15:40:54.587621Z",
          "shell.execute_reply.started": "2024-08-17T15:40:41.668047Z",
          "shell.execute_reply": "2024-08-17T15:40:54.586559Z"
        },
        "trusted": true,
        "id": "LaGeOvBbI4cW"
      },
      "execution_count": null,
      "outputs": []
    },
    {
      "cell_type": "code",
      "source": [
        "%matplotlib inline\n",
        "# Create the barplot\n",
        "ax = sns.barplot(x=['mAP50-95', 'mAP50', 'mAP75'], y=[metrics.box.map, metrics.box.map50, metrics.box.map75])\n",
        "\n",
        "# Set the title and axis labels\n",
        "ax.set_title('Evaluation Metrics')\n",
        "ax.set_xlabel('Metric')\n",
        "ax.set_ylabel('Value')\n",
        "\n",
        "# Set the figure size\n",
        "fig = plt.gcf()\n",
        "fig.set_size_inches(8, 6)\n",
        "\n",
        "# Add the values on top of the bars\n",
        "for p in ax.patches:\n",
        "    ax.annotate('{:.3f}'.format(p.get_height()), (p.get_x() + p.get_width() / 2, p.get_height()), ha='center', va='bottom')\n",
        "\n",
        "# Show the plot\n",
        "plt.show()\n"
      ],
      "metadata": {
        "execution": {
          "iopub.status.busy": "2024-08-17T16:09:07.544493Z",
          "iopub.execute_input": "2024-08-17T16:09:07.54536Z",
          "iopub.status.idle": "2024-08-17T16:09:07.782783Z",
          "shell.execute_reply.started": "2024-08-17T16:09:07.545326Z",
          "shell.execute_reply": "2024-08-17T16:09:07.781913Z"
        },
        "trusted": true,
        "id": "t550BnDfI4cX"
      },
      "execution_count": null,
      "outputs": []
    },
    {
      "cell_type": "code",
      "source": [
        "%matplotlib inline\n",
        "# Reading the confusion matrix image file\n",
        "img = mpimg.imread('/kaggle/working/runs/detect/train/confusion_matrix.png')\n",
        "\n",
        "# Plotting the confusion matrix image\n",
        "fig, ax = plt.subplots(figsize = (15, 15))\n",
        "\n",
        "ax.imshow(img)\n",
        "ax.axis('off');"
      ],
      "metadata": {
        "execution": {
          "iopub.status.busy": "2024-08-17T15:40:54.909704Z",
          "iopub.execute_input": "2024-08-17T15:40:54.910068Z",
          "iopub.status.idle": "2024-08-17T15:40:56.961217Z",
          "shell.execute_reply.started": "2024-08-17T15:40:54.910036Z",
          "shell.execute_reply": "2024-08-17T15:40:56.960282Z"
        },
        "trusted": true,
        "id": "DFDnwd7FI4cX"
      },
      "execution_count": null,
      "outputs": []
    },
    {
      "cell_type": "code",
      "source": [
        "# Function to perform ship detections\n",
        "def ship_detect(img_path):\n",
        "\n",
        "    # Read the image\n",
        "    img = cv2.imread(img_path)\n",
        "\n",
        "    # Pass the image through the detection model and get the result\n",
        "    detect_result = model(img)\n",
        "\n",
        "    # Plot the detections\n",
        "    detect_img = detect_result[0].plot()\n",
        "\n",
        "    # Convert the image to RGB format\n",
        "    detect_img = cv2.cvtColor(detect_img, cv2.COLOR_BGR2RGB)\n",
        "\n",
        "    return detect_img"
      ],
      "metadata": {
        "execution": {
          "iopub.status.busy": "2024-08-17T15:40:56.965136Z",
          "iopub.execute_input": "2024-08-17T15:40:56.965504Z",
          "iopub.status.idle": "2024-08-17T15:40:56.970602Z",
          "shell.execute_reply.started": "2024-08-17T15:40:56.965479Z",
          "shell.execute_reply": "2024-08-17T15:40:56.969693Z"
        },
        "trusted": true,
        "id": "MvP6_f22I4cX"
      },
      "execution_count": null,
      "outputs": []
    },
    {
      "cell_type": "code",
      "source": [
        "import random\n",
        "\n",
        "# Define the directory where the custom images are stored\n",
        "custom_image_dir = '/kaggle/input/database-dipa-2024-jalan-berlubang/Database Jalan Berlubang/test/images'\n",
        "\n",
        "# Get the list of image files in the directory\n",
        "image_files = os.listdir(custom_image_dir)\n",
        "\n",
        "# Select 16 random images from the list\n",
        "selected_images = random.sample(image_files, 16)\n",
        "\n",
        "# Create a figure with subplots for each image\n",
        "fig, axes = plt.subplots(nrows=4, ncols=4, figsize=(15, 15))\n",
        "\n",
        "# Iterate over the selected images and plot each one\n",
        "for i, img_file in enumerate(selected_images):\n",
        "\n",
        "    # Compute the row and column index of the current subplot\n",
        "    row_idx = i // 4\n",
        "    col_idx = i % 4\n",
        "\n",
        "    # Load the current image and run object detection\n",
        "    img_path = os.path.join(custom_image_dir, img_file)\n",
        "    detect_img = ship_detect(img_path)\n",
        "\n",
        "    # Plot the current image on the appropriate subplot\n",
        "    axes[row_idx, col_idx].imshow(detect_img)\n",
        "    axes[row_idx, col_idx].axis('off')\n",
        "\n",
        "# Adjust the spacing between the subplots\n",
        "plt.subplots_adjust(wspace=0.05, hspace=0.05)"
      ],
      "metadata": {
        "execution": {
          "iopub.status.busy": "2024-08-17T15:40:56.971865Z",
          "iopub.execute_input": "2024-08-17T15:40:56.972225Z",
          "iopub.status.idle": "2024-08-17T15:41:01.991689Z",
          "shell.execute_reply.started": "2024-08-17T15:40:56.972194Z",
          "shell.execute_reply": "2024-08-17T15:41:01.990258Z"
        },
        "trusted": true,
        "id": "b3KJILdnI4cY"
      },
      "execution_count": null,
      "outputs": []
    },
    {
      "cell_type": "code",
      "source": [
        "# Function to perform ship detections\n",
        "def ship_detect(img_path):\n",
        "\n",
        "    # Read the image\n",
        "    img = cv2.imread(img_path)\n",
        "\n",
        "    # Pass the image through the detection model and get the result\n",
        "    detect_result = model(img)\n",
        "\n",
        "    # Plot the detections\n",
        "    detect_img = detect_result[0].plot()\n",
        "\n",
        "    # Convert the image to RGB format\n",
        "    detect_img = cv2.cvtColor(detect_img, cv2.COLOR_BGR2RGB)\n",
        "\n",
        "    return detect_img"
      ],
      "metadata": {
        "execution": {
          "iopub.status.busy": "2024-08-17T15:46:56.087418Z",
          "iopub.execute_input": "2024-08-17T15:46:56.088071Z",
          "iopub.status.idle": "2024-08-17T15:46:56.093291Z",
          "shell.execute_reply.started": "2024-08-17T15:46:56.088038Z",
          "shell.execute_reply": "2024-08-17T15:46:56.092275Z"
        },
        "trusted": true,
        "id": "dxC2suYZI4cY"
      },
      "execution_count": null,
      "outputs": []
    },
    {
      "cell_type": "code",
      "source": [
        "import random\n",
        "\n",
        "# Define the directory where the custom images are stored\n",
        "custom_image_dir = '/kaggle/input/database-dipa-2024-jalan-berlubang/Database Jalan Berlubang/test/images'\n",
        "\n",
        "# Get the list of image files in the directory\n",
        "image_files = os.listdir(custom_image_dir)\n",
        "\n",
        "# Select 16 random images from the list\n",
        "selected_images = random.sample(image_files, 16)\n",
        "\n",
        "# Create a figure with subplots for each image\n",
        "fig, axes = plt.subplots(nrows=4, ncols=4, figsize=(15, 15))\n",
        "\n",
        "# Iterate over the selected images and plot each one\n",
        "for i, img_file in enumerate(selected_images):\n",
        "\n",
        "    # Compute the row and column index of the current subplot\n",
        "    row_idx = i // 4\n",
        "    col_idx = i % 4\n",
        "\n",
        "    # Load the current image and run object detection\n",
        "    img_path = os.path.join(custom_image_dir, img_file)\n",
        "    detect_img = ship_detect(img_path)\n",
        "\n",
        "    # Plot the current image on the appropriate subplot\n",
        "    axes[row_idx, col_idx].imshow(detect_img)\n",
        "    axes[row_idx, col_idx].axis('off')\n",
        "\n",
        "# Adjust the spacing between the subplots\n",
        "plt.subplots_adjust(wspace=0.05, hspace=0.05)"
      ],
      "metadata": {
        "execution": {
          "iopub.status.busy": "2024-08-17T15:47:58.680222Z",
          "iopub.execute_input": "2024-08-17T15:47:58.680971Z",
          "iopub.status.idle": "2024-08-17T15:48:03.636793Z",
          "shell.execute_reply.started": "2024-08-17T15:47:58.680924Z",
          "shell.execute_reply": "2024-08-17T15:48:03.635663Z"
        },
        "trusted": true,
        "id": "BMvTWmgDI4cY"
      },
      "execution_count": null,
      "outputs": []
    }
  ]
}